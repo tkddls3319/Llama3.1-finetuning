{
 "cells": [
  {
   "cell_type": "code",
   "execution_count": null,
   "metadata": {},
   "outputs": [
    {
     "name": "stdout",
     "output_type": "stream",
     "text": [
      "LGAI-EXAONE/EXAONE-3.5-7.8B-Instruct\n"
     ]
    }
   ],
   "source": [
    "from peft_trainer import ModelType\n",
    "\n",
    "modelType = ModelType.META_LLAMA3_1_8B_INSTRUCT\n",
    "print(modelType.value)"
   ]
  },
  {
   "cell_type": "code",
   "execution_count": null,
   "metadata": {},
   "outputs": [],
   "source": [
    "from peft_trainer import train_sft, LoraTarget\n",
    "# 모델 학습\n",
    "model, tokenlizer, output_dir = train_sft(\n",
    "            modelType, use_quantization = True, max_seq_length = 1024,\n",
    "            wandb_project = 'finetuning', wandb_key=\"\", \n",
    "            lorar = 8, loraa = 16, loradropout = 0.2, targetmodule=LoraTarget.NORMAL,\n",
    "            epochs= 3, batch_size = 4, gradient_step = 2, learning_rate = 5e-4\n",
    "            )\n",
    "\n",
    "lora_path = output_dir + \"/lora_model\""
   ]
  },
  {
   "cell_type": "code",
   "execution_count": null,
   "metadata": {},
   "outputs": [],
   "source": [
    "from peft_trainer import  chat_response\n",
    "chat_response(model, tokenlizer, \"질문 쓰는 곳\")"
   ]
  },
  {
   "cell_type": "markdown",
   "metadata": {},
   "source": [
    "---"
   ]
  },
  {
   "cell_type": "markdown",
   "metadata": {},
   "source": [
    "MERGE"
   ]
  },
  {
   "cell_type": "code",
   "execution_count": null,
   "metadata": {},
   "outputs": [],
   "source": [
    "from peft_trainer import  merge_model_load, ModelType # 200, 50\n",
    "\n",
    "modelType = ModelType.META_LLAMA3_1_8B_INSTRUCT\n",
    "lora_path= './lora_model'\n",
    "model, tokenlizer = merge_model_load(ModelType.META_LLAMA3_1_8B_INSTRUCT, lora_path, False)"
   ]
  },
  {
   "cell_type": "code",
   "execution_count": null,
   "metadata": {},
   "outputs": [],
   "source": [
    "from peft_trainer import  chat_response\n",
    "chat_response(model, tokenlizer, \"질문 쓰는 곳\")"
   ]
  },
  {
   "cell_type": "markdown",
   "metadata": {},
   "source": [
    "---"
   ]
  },
  {
   "cell_type": "markdown",
   "metadata": {},
   "source": [
    "SAVE"
   ]
  },
  {
   "cell_type": "code",
   "execution_count": null,
   "metadata": {},
   "outputs": [],
   "source": [
    "from peft_trainer import merge_model_load_save, ModelType\n",
    "\n",
    "modelType = ModelType.META_LLAMA3_1_8B_INSTRUCT\n",
    "lora_path= './lora_model'\n",
    "merge_save_model, tokenlizer = merge_model_load_save(modelType, lora_path)"
   ]
  },
  {
   "cell_type": "markdown",
   "metadata": {},
   "source": [
    "---"
   ]
  },
  {
   "cell_type": "markdown",
   "metadata": {},
   "source": [
    "GGUF"
   ]
  },
  {
   "cell_type": "code",
   "execution_count": null,
   "metadata": {},
   "outputs": [],
   "source": [
    "import os\n",
    "lora_path= './lora_model'\n",
    "merged_path = os.path.join(lora_path, \"merged\")\n",
    "!python llama.cpp/convert_hf_to_gguf.py \"{merged_path}\" --outtype q8_0"
   ]
  }
 ],
 "metadata": {
  "kernelspec": {
   "display_name": "dseek",
   "language": "python",
   "name": "python3"
  },
  "language_info": {
   "codemirror_mode": {
    "name": "ipython",
    "version": 3
   },
   "file_extension": ".py",
   "mimetype": "text/x-python",
   "name": "python",
   "nbconvert_exporter": "python",
   "pygments_lexer": "ipython3",
   "version": "3.10.16"
  }
 },
 "nbformat": 4,
 "nbformat_minor": 2
}
